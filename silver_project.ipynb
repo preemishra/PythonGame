{
 "cells": [
  {
   "cell_type": "markdown",
   "metadata": {},
   "source": [
    "\n",
    "# Rock_Paper_Scissor_Game"
   ]
  },
  {
   "cell_type": "code",
   "execution_count": null,
   "metadata": {},
   "outputs": [
    {
     "name": "stdout",
     "output_type": "stream",
     "text": [
      "******************☺WELCOME TO YOUR CHILDHOOD GAME☺*****************\n",
      "\n",
      "RULES OF GAME: \n",
      "ROCK <-> PAPER : PAPER wins☺\n",
      "ROCK <-> SCISSOR : ROCK wins☺\n",
      "PAPER <-> SCISSOR : SCISSOR wins☺\n",
      "\n",
      "\n",
      "\n",
      "Options:\n",
      "1. Rock\n",
      "2. Paper\n",
      "3. Scissor\n",
      "\n",
      "Your turn: 3\n",
      "Your choice: SCISSOR\n",
      "\n",
      "Now System's turn:  2\n",
      "System's choice: PAPER\n",
      "\n",
      "SCISSOR V/S PAPER\n",
      "_____Scissor wins_____\n",
      "\n",
      "\n",
      "☺☺☺☺☺ You won ☺☺☺☺☺\n",
      "\n",
      "Do you want to play again? (Y/N)\n"
     ]
    }
   ],
   "source": [
    "import random\n",
    "print(\"******************☺WELCOME TO YOUR CHILDHOOD GAME☺*****************\")\n",
    "print(\"\\nRULES OF GAME: \\nROCK <-> PAPER : PAPER wins☺\\nROCK <-> SCISSOR : ROCK wins☺\\nPAPER <-> SCISSOR : SCISSOR wins☺\\n\\n\")\n",
    "while True:\n",
    "    print(\"\\nOptions:\\n1. Rock\\n2. Paper\\n3. Scissor\\n\")\n",
    "    ip = int(input(\"Your turn: \"))\n",
    "    \n",
    "    while ip > 3 or ip < 1:#if user enters invalid option which is not in range(1,3)\n",
    "        ip = int(input(\"Please Enter Valid Input: \"))\n",
    "    #if valid input\n",
    "    if ip == 1:\n",
    "        ch = 'ROCK'\n",
    "    elif ip == 2:\n",
    "        ch = 'PAPER'\n",
    "    else: \n",
    "        ch = 'SCISSOR'\n",
    "    #Printing users choice\n",
    "    print(\"Your choice: \" + ch)\n",
    "    \n",
    "    #systems turn which we are creating randomly\n",
    "    \n",
    "    #sys_ip = random.range(1,3)\n",
    "    sys_ip = random.randint(1,3)#it will create random integers btw 1 to 3\n",
    "    \n",
    "    #it will keep running until system's input and user's input are same i.e tie \n",
    "    while sys_ip == ip:#to avoid tie\n",
    "        sys_ip = random.randint(1,3)#generating again and again both inputs are same.\n",
    "    \n",
    "    print(\"\\nNow System's turn: \",sys_ip)\n",
    "    #if inputs are not same....\n",
    "    if sys_ip == 1:\n",
    "        sys_ch = 'ROCK'\n",
    "    elif sys_ip == 2:\n",
    "        sys_ch = 'PAPER'\n",
    "    else:\n",
    "        sys_ch = 'SCISSOR'\n",
    "    #Printing systems choice\n",
    "    print(\"System's choice: \" + sys_ch)\n",
    "    \n",
    "    print(\"\\n\"+ch+\" V/S \"+sys_ch)#just printing both inputs together with thier choices\n",
    "    \n",
    "    if((ip == 1 and sys_ip == 2) or (ip == 2 and sys_ip == 1 )):#checking Rock v/s Paper\n",
    "        print(\"_____Paper wins_____\\n\")#paper wins\n",
    "        result = \"PAPER\"#storing the result\n",
    "    elif((ip == 1 and sys_ip == 3) or (ip == 3 and sys_ip == 1)):#checking Rock v/s Scissor\n",
    "        print(\"_____Rock wins_____\\n\")\n",
    "        result = \"ROCK\"\n",
    "    else:#else it will be last possibility Paper v/s Scissor\n",
    "        print(\"_____Scissor wins_____\\n\")\n",
    "        result = \"SCISSOR\"\n",
    "\n",
    "    if result == ch:#checking result with users choice \n",
    "        print(\"\\n☺☺☺☺☺ You won ☺☺☺☺☺\\n\")\n",
    "    elif result == sys_ch:#checking result with systems choice\n",
    "        print(\"\\n☺☺☺☺☺ System won ☺☺☺☺☺\\n\")\n",
    "    #asking to play again\n",
    "    print(\"Do you want to play again? (Y/N)\")\n",
    "    ans = input()\n",
    "    if ans == 'n' or ans == 'N':#if users answer is no....break the loop\n",
    "        break\n",
    "print(\"\\n☺Thanks For Playing☺\\n\")"
   ]
  },
  {
   "cell_type": "code",
   "execution_count": null,
   "metadata": {},
   "outputs": [],
   "source": []
  }
 ],
 "metadata": {
  "kernelspec": {
   "display_name": "Python 3",
   "language": "python",
   "name": "python3"
  },
  "language_info": {
   "codemirror_mode": {
    "name": "ipython",
    "version": 3
   },
   "file_extension": ".py",
   "mimetype": "text/x-python",
   "name": "python",
   "nbconvert_exporter": "python",
   "pygments_lexer": "ipython3",
   "version": "3.7.6"
  }
 },
 "nbformat": 4,
 "nbformat_minor": 4
}
